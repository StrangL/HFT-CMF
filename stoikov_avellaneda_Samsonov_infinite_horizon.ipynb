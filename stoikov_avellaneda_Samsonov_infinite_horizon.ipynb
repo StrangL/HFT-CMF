{
  "nbformat": 4,
  "nbformat_minor": 0,
  "metadata": {
    "colab": {
      "provenance": [],
      "collapsed_sections": []
    },
    "kernelspec": {
      "name": "python3",
      "display_name": "Python 3"
    },
    "language_info": {
      "name": "python"
    }
  },
  "cells": [
    {
      "cell_type": "code",
      "execution_count": null,
      "metadata": {
        "colab": {
          "base_uri": "https://localhost:8080/"
        },
        "id": "1ZuQT2tduB89",
        "outputId": "8ac723ca-ed47-473a-bd14-179dad103006"
      },
      "outputs": [
        {
          "output_type": "stream",
          "name": "stdout",
          "text": [
            "Drive already mounted at /content/drive; to attempt to forcibly remount, call drive.mount(\"/content/drive\", force_remount=True).\n"
          ]
        }
      ],
      "source": [
        "from google.colab import drive\n",
        "drive.mount('/content/drive')"
      ]
    },
    {
      "cell_type": "code",
      "source": [
        "from typing import List, Optional, Tuple, Union, Dict\n",
        "\n",
        "import numpy as np\n",
        "import pandas as pd\n",
        "\n",
        "from simulator import MdUpdate, Order, OwnTrade, Sim, update_best_positions"
      ],
      "metadata": {
        "id": "oz0nYJpBw_VB"
      },
      "execution_count": 6,
      "outputs": []
    },
    {
      "cell_type": "code",
      "source": [
        "class StoikovAvellanedaStrategy:\n",
        "      def __init__(self, delay: float, gamma: float, sigma: float, max_pos: float, hold_time: Optional[float] = None) -> None:\n",
        "        self.hold_time = hold_time\n",
        "        self.delay = delay\n",
        "        self.gamma = gamma\n",
        "        self.sigma = sigma\n",
        "        self.max_pos = max_pos\n",
        "\n",
        "      def run(self, sim: Sim) -> \\\n",
        "            Tuple[List[OwnTrade], List[MdUpdate], List[Union[OwnTrade, MdUpdate]], List[Order]]:\n",
        "        '''\n",
        "            This function runs simulation\n",
        "\n",
        "            Args:\n",
        "                sim(Sim): simulator\n",
        "            Returns:\n",
        "                trades_list(List[OwnTrade]): list of our executed trades\n",
        "                md_list(List[MdUpdate]): list of market data received by strategy\n",
        "                updates_list( List[ Union[OwnTrade, MdUpdate] ] ): list of all updates\n",
        "                received by strategy(market data and information about executed trades)\n",
        "                all_orders(List[Orted]): list of all placed orders\n",
        "        '''\n",
        "\n",
        "        # market data list\n",
        "        md_list: List[MdUpdate] = []\n",
        "        # executed trades list\n",
        "        trades_list: List[OwnTrade] = []\n",
        "        # all updates list\n",
        "        updates_list = []\n",
        "        # current best positions\n",
        "        best_bid = -np.inf\n",
        "        best_ask = np.inf\n",
        "\n",
        "        # last order timestamp\n",
        "        prev_time = -np.inf\n",
        "        # orders that have not been executed/canceled yet\n",
        "        ongoing_orders: Dict[int, Order] = {}\n",
        "        all_orders = []\n",
        "\n",
        "        q = 0.\n",
        "\n",
        "        while True:\n",
        "            # get update from simulator\n",
        "            receive_ts, updates = sim.tick()\n",
        "            if updates is None:\n",
        "                break\n",
        "            # save updates\n",
        "            updates_list += updates\n",
        "            for update in updates:\n",
        "                # update best position\n",
        "                if isinstance(update, MdUpdate):\n",
        "                    best_bid, best_ask = update_best_positions(best_bid, best_ask, update)\n",
        "                    md_list.append(update)\n",
        "                elif isinstance(update, OwnTrade):\n",
        "                    trades_list.append(update)\n",
        "                    if update.side == 'BID':\n",
        "                        q += 0.001\n",
        "                    else:\n",
        "                        q -= 0.001\n",
        "\n",
        "                    # delete executed trades from the dict\n",
        "                    if update.order_id in ongoing_orders.keys():\n",
        "                        ongoing_orders.pop(update.order_id)\n",
        "                else:\n",
        "                    assert False, 'invalid type of update!'\n",
        "\n",
        "            if receive_ts - prev_time >= self.delay:\n",
        "                prev_time = receive_ts\n",
        "\n",
        "                s = (best_bid + best_ask) / 2\n",
        "                w = 0.5 * self.gamma**2 * self.sigma**2 * (self.max_pos + 1)**2\n",
        "                coef = self.gamma**2 * self.sigma**2 / (2 * w - self.gamma**2 * q**2 * self.sigma**2)\n",
        "                r_ask = s + np.log(1 + (1 - 2 * q) * coef) / self.gamma\n",
        "                r_bid = s + np.log(1 + (-1 - 2 * q) * coef) / self.gamma\n",
        "\n",
        "                # place order\n",
        "                if q < self.max_pos:\n",
        "                  bid_order = sim.place_order(receive_ts, 0.001, 'BID', r_bid)\n",
        "                ask_order = sim.place_order(receive_ts, 0.001, 'ASK', r_ask)\n",
        "                ongoing_orders[bid_order.order_id] = bid_order\n",
        "                ongoing_orders[ask_order.order_id] = ask_order\n",
        "\n",
        "                all_orders += [bid_order, ask_order]\n",
        "\n",
        "            to_cancel = []\n",
        "            for ID, order in ongoing_orders.items():\n",
        "                if order.place_ts < receive_ts - self.hold_time:\n",
        "                    sim.cancel_order(receive_ts, ID)\n",
        "                    to_cancel.append(ID)\n",
        "            for ID in to_cancel:\n",
        "                ongoing_orders.pop(ID)\n",
        "\n",
        "        return trades_list, md_list, updates_list, all_orders"
      ],
      "metadata": {
        "id": "_ELRLHNRxc_a"
      },
      "execution_count": 101,
      "outputs": []
    },
    {
      "cell_type": "code",
      "source": [
        "from get_info import get_pnl\n",
        "from load_data import load_md_from_file\n",
        "from matplotlib import pyplot as plt"
      ],
      "metadata": {
        "id": "xn66xmlG6Ssj"
      },
      "execution_count": 102,
      "outputs": []
    },
    {
      "cell_type": "code",
      "source": [
        "PATH_TO_FILE = '/content/drive/MyDrive/CMF_strategy/md/btcusdt_Binance_LinearPerpetual/'\n",
        "NROWS = 1000000"
      ],
      "metadata": {
        "id": "0HfpXsFS3HTz"
      },
      "execution_count": 103,
      "outputs": []
    },
    {
      "cell_type": "code",
      "source": [
        "md = load_md_from_file(path=PATH_TO_FILE, nrows=NROWS)"
      ],
      "metadata": {
        "id": "_P6vuTYq557Y"
      },
      "execution_count": 104,
      "outputs": []
    },
    {
      "cell_type": "code",
      "source": [
        "latency = pd.Timedelta(10, 'ms').delta\n",
        "md_latency = pd.Timedelta(10, 'ms').delta\n",
        "\n",
        "sim = Sim(md, latency, md_latency)"
      ],
      "metadata": {
        "id": "W-UW6eYq5SjK"
      },
      "execution_count": 105,
      "outputs": []
    },
    {
      "cell_type": "code",
      "source": [
        "delay = pd.Timedelta(0.01, 's').delta\n",
        "gamma = 1\n",
        "sigma = 0.1\n",
        "max_pos = 0.01\n",
        "hold_time = pd.Timedelta(0.1, 's').delta\n",
        "\n",
        "strategy = StoikovAvellanedaStrategy(delay, gamma, sigma, max_pos, hold_time)"
      ],
      "metadata": {
        "id": "TjfbkDtc5k2q"
      },
      "execution_count": 106,
      "outputs": []
    },
    {
      "cell_type": "code",
      "source": [
        "%time trades_list, md_list, updates_list, all_orders = strategy.run(sim)"
      ],
      "metadata": {
        "colab": {
          "base_uri": "https://localhost:8080/"
        },
        "id": "u7taElut57ht",
        "outputId": "75e68891-b6a0-4357-dd84-0f3b3153c2b0"
      },
      "execution_count": 107,
      "outputs": [
        {
          "output_type": "stream",
          "name": "stdout",
          "text": [
            "CPU times: user 2min 24s, sys: 2.37 s, total: 2min 26s\n",
            "Wall time: 2min 27s\n"
          ]
        }
      ]
    },
    {
      "cell_type": "code",
      "source": [
        "%time df = get_pnl(updates_list)"
      ],
      "metadata": {
        "colab": {
          "base_uri": "https://localhost:8080/"
        },
        "id": "Q_PVmwQX5_fc",
        "outputId": "5065fa27-b6fd-48f8-ff75-a8fb4a7852cf"
      },
      "execution_count": 108,
      "outputs": [
        {
          "output_type": "stream",
          "name": "stdout",
          "text": [
            "CPU times: user 1min 51s, sys: 402 ms, total: 1min 51s\n",
            "Wall time: 1min 53s\n"
          ]
        }
      ]
    },
    {
      "cell_type": "code",
      "source": [
        "df"
      ],
      "metadata": {
        "colab": {
          "base_uri": "https://localhost:8080/",
          "height": 423
        },
        "id": "9nAsCzum6B1Y",
        "outputId": "3f5ede11-9922-4e40-e0a9-82cfde6ba893"
      },
      "execution_count": 109,
      "outputs": [
        {
          "output_type": "execute_result",
          "data": {
            "text/plain": [
              "                  receive_ts          exchange_ts       total    BTC  \\\n",
              "0        1655942402250125991  1655942402249000000    0.000000  0.000   \n",
              "1        1655942402624789714  1655942402623000000    0.000000  0.000   \n",
              "2        1655942402657844605  1655942402655000000    0.000000  0.000   \n",
              "3        1655942403346968722  1655942403346000000    0.000000  0.000   \n",
              "4        1655942404080791047  1655942404080000000    0.000000  0.000   \n",
              "...                      ...                  ...         ...    ...   \n",
              "2082889  1655976251949195377  1655976251948000000 -360.295459 -0.185   \n",
              "2082890  1655976251980811262  1655976251980000000 -360.295459 -0.185   \n",
              "2082891  1655976252013040555  1655976252012000000 -359.980959 -0.185   \n",
              "2082892  1655976252022000000  1655976252012000000 -359.984083 -0.181   \n",
              "2082893  1655976252046013863  1655976252045000000 -359.984083 -0.181   \n",
              "\n",
              "                 USD  mid_price  \n",
              "0           0.000000   19977.45  \n",
              "1           0.000000   19977.45  \n",
              "2           0.000000   19977.45  \n",
              "3           0.000000   19977.45  \n",
              "4           0.000000   19977.45  \n",
              "...              ...        ...  \n",
              "2082889  3451.823791   20606.05  \n",
              "2082890  3451.823791   20606.05  \n",
              "2082891  3451.823791   20604.35  \n",
              "2082892  3369.403267   20604.35  \n",
              "2082893  3369.403267   20604.35  \n",
              "\n",
              "[2082894 rows x 6 columns]"
            ],
            "text/html": [
              "\n",
              "  <div id=\"df-1731e682-1d86-47e0-994e-2383dc02ac47\">\n",
              "    <div class=\"colab-df-container\">\n",
              "      <div>\n",
              "<style scoped>\n",
              "    .dataframe tbody tr th:only-of-type {\n",
              "        vertical-align: middle;\n",
              "    }\n",
              "\n",
              "    .dataframe tbody tr th {\n",
              "        vertical-align: top;\n",
              "    }\n",
              "\n",
              "    .dataframe thead th {\n",
              "        text-align: right;\n",
              "    }\n",
              "</style>\n",
              "<table border=\"1\" class=\"dataframe\">\n",
              "  <thead>\n",
              "    <tr style=\"text-align: right;\">\n",
              "      <th></th>\n",
              "      <th>receive_ts</th>\n",
              "      <th>exchange_ts</th>\n",
              "      <th>total</th>\n",
              "      <th>BTC</th>\n",
              "      <th>USD</th>\n",
              "      <th>mid_price</th>\n",
              "    </tr>\n",
              "  </thead>\n",
              "  <tbody>\n",
              "    <tr>\n",
              "      <th>0</th>\n",
              "      <td>1655942402250125991</td>\n",
              "      <td>1655942402249000000</td>\n",
              "      <td>0.000000</td>\n",
              "      <td>0.000</td>\n",
              "      <td>0.000000</td>\n",
              "      <td>19977.45</td>\n",
              "    </tr>\n",
              "    <tr>\n",
              "      <th>1</th>\n",
              "      <td>1655942402624789714</td>\n",
              "      <td>1655942402623000000</td>\n",
              "      <td>0.000000</td>\n",
              "      <td>0.000</td>\n",
              "      <td>0.000000</td>\n",
              "      <td>19977.45</td>\n",
              "    </tr>\n",
              "    <tr>\n",
              "      <th>2</th>\n",
              "      <td>1655942402657844605</td>\n",
              "      <td>1655942402655000000</td>\n",
              "      <td>0.000000</td>\n",
              "      <td>0.000</td>\n",
              "      <td>0.000000</td>\n",
              "      <td>19977.45</td>\n",
              "    </tr>\n",
              "    <tr>\n",
              "      <th>3</th>\n",
              "      <td>1655942403346968722</td>\n",
              "      <td>1655942403346000000</td>\n",
              "      <td>0.000000</td>\n",
              "      <td>0.000</td>\n",
              "      <td>0.000000</td>\n",
              "      <td>19977.45</td>\n",
              "    </tr>\n",
              "    <tr>\n",
              "      <th>4</th>\n",
              "      <td>1655942404080791047</td>\n",
              "      <td>1655942404080000000</td>\n",
              "      <td>0.000000</td>\n",
              "      <td>0.000</td>\n",
              "      <td>0.000000</td>\n",
              "      <td>19977.45</td>\n",
              "    </tr>\n",
              "    <tr>\n",
              "      <th>...</th>\n",
              "      <td>...</td>\n",
              "      <td>...</td>\n",
              "      <td>...</td>\n",
              "      <td>...</td>\n",
              "      <td>...</td>\n",
              "      <td>...</td>\n",
              "    </tr>\n",
              "    <tr>\n",
              "      <th>2082889</th>\n",
              "      <td>1655976251949195377</td>\n",
              "      <td>1655976251948000000</td>\n",
              "      <td>-360.295459</td>\n",
              "      <td>-0.185</td>\n",
              "      <td>3451.823791</td>\n",
              "      <td>20606.05</td>\n",
              "    </tr>\n",
              "    <tr>\n",
              "      <th>2082890</th>\n",
              "      <td>1655976251980811262</td>\n",
              "      <td>1655976251980000000</td>\n",
              "      <td>-360.295459</td>\n",
              "      <td>-0.185</td>\n",
              "      <td>3451.823791</td>\n",
              "      <td>20606.05</td>\n",
              "    </tr>\n",
              "    <tr>\n",
              "      <th>2082891</th>\n",
              "      <td>1655976252013040555</td>\n",
              "      <td>1655976252012000000</td>\n",
              "      <td>-359.980959</td>\n",
              "      <td>-0.185</td>\n",
              "      <td>3451.823791</td>\n",
              "      <td>20604.35</td>\n",
              "    </tr>\n",
              "    <tr>\n",
              "      <th>2082892</th>\n",
              "      <td>1655976252022000000</td>\n",
              "      <td>1655976252012000000</td>\n",
              "      <td>-359.984083</td>\n",
              "      <td>-0.181</td>\n",
              "      <td>3369.403267</td>\n",
              "      <td>20604.35</td>\n",
              "    </tr>\n",
              "    <tr>\n",
              "      <th>2082893</th>\n",
              "      <td>1655976252046013863</td>\n",
              "      <td>1655976252045000000</td>\n",
              "      <td>-359.984083</td>\n",
              "      <td>-0.181</td>\n",
              "      <td>3369.403267</td>\n",
              "      <td>20604.35</td>\n",
              "    </tr>\n",
              "  </tbody>\n",
              "</table>\n",
              "<p>2082894 rows × 6 columns</p>\n",
              "</div>\n",
              "      <button class=\"colab-df-convert\" onclick=\"convertToInteractive('df-1731e682-1d86-47e0-994e-2383dc02ac47')\"\n",
              "              title=\"Convert this dataframe to an interactive table.\"\n",
              "              style=\"display:none;\">\n",
              "        \n",
              "  <svg xmlns=\"http://www.w3.org/2000/svg\" height=\"24px\"viewBox=\"0 0 24 24\"\n",
              "       width=\"24px\">\n",
              "    <path d=\"M0 0h24v24H0V0z\" fill=\"none\"/>\n",
              "    <path d=\"M18.56 5.44l.94 2.06.94-2.06 2.06-.94-2.06-.94-.94-2.06-.94 2.06-2.06.94zm-11 1L8.5 8.5l.94-2.06 2.06-.94-2.06-.94L8.5 2.5l-.94 2.06-2.06.94zm10 10l.94 2.06.94-2.06 2.06-.94-2.06-.94-.94-2.06-.94 2.06-2.06.94z\"/><path d=\"M17.41 7.96l-1.37-1.37c-.4-.4-.92-.59-1.43-.59-.52 0-1.04.2-1.43.59L10.3 9.45l-7.72 7.72c-.78.78-.78 2.05 0 2.83L4 21.41c.39.39.9.59 1.41.59.51 0 1.02-.2 1.41-.59l7.78-7.78 2.81-2.81c.8-.78.8-2.07 0-2.86zM5.41 20L4 18.59l7.72-7.72 1.47 1.35L5.41 20z\"/>\n",
              "  </svg>\n",
              "      </button>\n",
              "      \n",
              "  <style>\n",
              "    .colab-df-container {\n",
              "      display:flex;\n",
              "      flex-wrap:wrap;\n",
              "      gap: 12px;\n",
              "    }\n",
              "\n",
              "    .colab-df-convert {\n",
              "      background-color: #E8F0FE;\n",
              "      border: none;\n",
              "      border-radius: 50%;\n",
              "      cursor: pointer;\n",
              "      display: none;\n",
              "      fill: #1967D2;\n",
              "      height: 32px;\n",
              "      padding: 0 0 0 0;\n",
              "      width: 32px;\n",
              "    }\n",
              "\n",
              "    .colab-df-convert:hover {\n",
              "      background-color: #E2EBFA;\n",
              "      box-shadow: 0px 1px 2px rgba(60, 64, 67, 0.3), 0px 1px 3px 1px rgba(60, 64, 67, 0.15);\n",
              "      fill: #174EA6;\n",
              "    }\n",
              "\n",
              "    [theme=dark] .colab-df-convert {\n",
              "      background-color: #3B4455;\n",
              "      fill: #D2E3FC;\n",
              "    }\n",
              "\n",
              "    [theme=dark] .colab-df-convert:hover {\n",
              "      background-color: #434B5C;\n",
              "      box-shadow: 0px 1px 3px 1px rgba(0, 0, 0, 0.15);\n",
              "      filter: drop-shadow(0px 1px 2px rgba(0, 0, 0, 0.3));\n",
              "      fill: #FFFFFF;\n",
              "    }\n",
              "  </style>\n",
              "\n",
              "      <script>\n",
              "        const buttonEl =\n",
              "          document.querySelector('#df-1731e682-1d86-47e0-994e-2383dc02ac47 button.colab-df-convert');\n",
              "        buttonEl.style.display =\n",
              "          google.colab.kernel.accessAllowed ? 'block' : 'none';\n",
              "\n",
              "        async function convertToInteractive(key) {\n",
              "          const element = document.querySelector('#df-1731e682-1d86-47e0-994e-2383dc02ac47');\n",
              "          const dataTable =\n",
              "            await google.colab.kernel.invokeFunction('convertToInteractive',\n",
              "                                                     [key], {});\n",
              "          if (!dataTable) return;\n",
              "\n",
              "          const docLinkHtml = 'Like what you see? Visit the ' +\n",
              "            '<a target=\"_blank\" href=https://colab.research.google.com/notebooks/data_table.ipynb>data table notebook</a>'\n",
              "            + ' to learn more about interactive tables.';\n",
              "          element.innerHTML = '';\n",
              "          dataTable['output_type'] = 'display_data';\n",
              "          await google.colab.output.renderOutput(dataTable, element);\n",
              "          const docLink = document.createElement('div');\n",
              "          docLink.innerHTML = docLinkHtml;\n",
              "          element.appendChild(docLink);\n",
              "        }\n",
              "      </script>\n",
              "    </div>\n",
              "  </div>\n",
              "  "
            ]
          },
          "metadata": {},
          "execution_count": 109
        }
      ]
    },
    {
      "cell_type": "code",
      "source": [
        "dt = pd.to_datetime(df.receive_ts)"
      ],
      "metadata": {
        "id": "CmBRhDWf6D32"
      },
      "execution_count": 110,
      "outputs": []
    },
    {
      "cell_type": "code",
      "source": [
        "plt.figure(figsize=(10, 5))\n",
        "plt.plot(dt, df.total, '-')\n",
        "plt.xlabel(\"time\", fontsize=13)\n",
        "plt.ylabel(\"PnL\", fontsize=13)\n",
        "plt.title(\"BestStrategy PnL\", fontsize=15)\n",
        "plt.grid()\n",
        "plt.show()"
      ],
      "metadata": {
        "colab": {
          "base_uri": "https://localhost:8080/",
          "height": 355
        },
        "id": "hqGUvbWs6E9P",
        "outputId": "4d59ea0f-51e9-46fd-bce7-846bb92e6515"
      },
      "execution_count": 111,
      "outputs": [
        {
          "output_type": "display_data",
          "data": {
            "text/plain": [
              "<Figure size 720x360 with 1 Axes>"
            ],
            "image/png": "[encoded data removed]"
          },
          "metadata": {
            "needs_background": "light"
          }
        }
      ]
    }
  ]
}